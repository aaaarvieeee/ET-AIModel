{
 "cells": [
  {
   "cell_type": "code",
   "execution_count": 1,
   "id": "1a0e6e01-b3da-4fbe-a1db-ff83259fe7ea",
   "metadata": {},
   "outputs": [
    {
     "ename": "ModuleNotFoundError",
     "evalue": "No module named 'datasets'",
     "output_type": "error",
     "traceback": [
      "\u001b[1;31m---------------------------------------------------------------------------\u001b[0m",
      "\u001b[1;31mModuleNotFoundError\u001b[0m                       Traceback (most recent call last)",
      "Cell \u001b[1;32mIn[1], line 2\u001b[0m\n\u001b[0;32m      1\u001b[0m \u001b[38;5;28;01mfrom\u001b[39;00m \u001b[38;5;21;01mtransformers\u001b[39;00m \u001b[38;5;28;01mimport\u001b[39;00m AutoProcessor, UdopForConditionalGeneration\n\u001b[1;32m----> 2\u001b[0m \u001b[38;5;28;01mfrom\u001b[39;00m \u001b[38;5;21;01mdatasets\u001b[39;00m \u001b[38;5;28;01mimport\u001b[39;00m load_dataset\n\u001b[0;32m      4\u001b[0m \u001b[38;5;66;03m# load model and processor\u001b[39;00m\n\u001b[0;32m      5\u001b[0m \u001b[38;5;66;03m# in this case, we already have performed OCR ourselves\u001b[39;00m\n\u001b[0;32m      6\u001b[0m \u001b[38;5;66;03m# so we initialize the processor with `apply_ocr=False`\u001b[39;00m\n\u001b[0;32m      7\u001b[0m processor \u001b[38;5;241m=\u001b[39m AutoProcessor\u001b[38;5;241m.\u001b[39mfrom_pretrained(\u001b[38;5;124m\"\u001b[39m\u001b[38;5;124mmicrosoft/udop-large\u001b[39m\u001b[38;5;124m\"\u001b[39m, apply_ocr\u001b[38;5;241m=\u001b[39m\u001b[38;5;28;01mFalse\u001b[39;00m)\n",
      "\u001b[1;31mModuleNotFoundError\u001b[0m: No module named 'datasets'"
     ]
    }
   ],
   "source": [
    "from transformers import AutoProcessor, UdopForConditionalGeneration\n",
    "from datasets import load_dataset\n",
    "\n",
    "# load model and processor\n",
    "# in this case, we already have performed OCR ourselves\n",
    "# so we initialize the processor with `apply_ocr=False`\n",
    "processor = AutoProcessor.from_pretrained(\"microsoft/udop-large\", apply_ocr=False)\n",
    "model = UdopForConditionalGeneration.from_pretrained(\"microsoft/udop-large\")\n",
    "\n",
    "# load an example image, along with the words and coordinates\n",
    "# which were extracted using an OCR engine\n",
    "dataset = load_dataset(\"nielsr/funsd-layoutlmv3\", split=\"train\")\n",
    "example = dataset[0]\n",
    "image = example[\"image\"]\n",
    "words = example[\"tokens\"]\n",
    "boxes = example[\"bboxes\"]\n",
    "question = \"Question answering. What is the date on the form?\"\n",
    "\n",
    "# prepare everything for the model\n",
    "encoding = processor(image, question, words, boxes=boxes, return_tensors=\"pt\")\n",
    "\n",
    "# autoregressive generation\n",
    "predicted_ids = model.generate(**encoding)\n",
    "print(processor.batch_decode(predicted_ids, skip_special_tokens=True)[0])\n",
    "9/30/92\n"
   ]
  },
  {
   "cell_type": "code",
   "execution_count": null,
   "id": "a4b2bf33-13bd-4602-87dd-3737a9514b38",
   "metadata": {},
   "outputs": [],
   "source": []
  }
 ],
 "metadata": {
  "kernelspec": {
   "display_name": "Python 3 (ipykernel)",
   "language": "python",
   "name": "python3"
  },
  "language_info": {
   "codemirror_mode": {
    "name": "ipython",
    "version": 3
   },
   "file_extension": ".py",
   "mimetype": "text/x-python",
   "name": "python",
   "nbconvert_exporter": "python",
   "pygments_lexer": "ipython3",
   "version": "3.11.8"
  }
 },
 "nbformat": 4,
 "nbformat_minor": 5
}
